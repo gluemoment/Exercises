{
 "cells": [
  {
   "cell_type": "code",
   "execution_count": 1,
   "metadata": {},
   "outputs": [
    {
     "name": "stdout",
     "output_type": "stream",
     "text": [
      "Please type the first number: 1\n",
      "Please type the second number: 1\n",
      "What kind of operation would you like to do?        \n",
      "Choose between \"+, -, *, /\" : +\n",
      "1 + 1 = 2\n"
     ]
    }
   ],
   "source": [
    "# Calculator\n",
    "# Have the user enter 2 number - a. b -\n",
    "# and an operator - op - and calculate\n",
    "# the solution - c - according to the\n",
    "# type of the given operator\n",
    "\n",
    "\n",
    "def calc(a, b, op):\n",
    "    \"\"\"\n",
    "    Returns a string like this: a op b = c\n",
    "    where c is the computed value according to the opeartor\n",
    "    \"\"\"\n",
    "\n",
    "    if op not in '+-/*':\n",
    "        return 'Please only type one of these characters: \"+, -, *, /\"!'\n",
    "\n",
    "    if op == '+':\n",
    "        return(str(a) + ' ' + op + ' ' + str(b) + ' = ' + str(a + b))\n",
    "    if op == '-':\n",
    "        return(str(a) + ' ' + op + ' ' + str(b) + ' = ' + str(a - b))\n",
    "    if op == '*':\n",
    "        return(str(a) + ' ' + op + ' ' + str(b) + ' = ' + str(a * b))\n",
    "    if op == '/':\n",
    "        return(str(a) + ' ' + op + ' ' + str(b) + ' = ' + str(a / b))\n",
    "\n",
    "\n",
    "def main():  # Wrapper function\n",
    "\n",
    "    a = int(input('Please type the first number: '))\n",
    "    b = int(input('Please type the second number: '))\n",
    "    op = input(\n",
    "        'What kind of operation would you like to do?\\\n",
    "        \\nChoose between \"+, -, *, /\" : ')\n",
    "\n",
    "    print(calc(a, b, op))\n",
    "\n",
    "if __name__ == '__main__':\n",
    "    main()"
   ]
  },
  {
   "cell_type": "code",
   "execution_count": null,
   "metadata": {},
   "outputs": [],
   "source": []
  }
 ],
 "metadata": {
  "kernelspec": {
   "display_name": "Python 3",
   "language": "python",
   "name": "python3"
  },
  "language_info": {
   "codemirror_mode": {
    "name": "ipython",
    "version": 3
   },
   "file_extension": ".py",
   "mimetype": "text/x-python",
   "name": "python",
   "nbconvert_exporter": "python",
   "pygments_lexer": "ipython3",
   "version": "3.6.4"
  }
 },
 "nbformat": 4,
 "nbformat_minor": 2
}
